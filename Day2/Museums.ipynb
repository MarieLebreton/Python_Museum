{
 "cells": [
  {
   "cell_type": "markdown",
   "id": "bc5ef6c4",
   "metadata": {},
   "source": [
    "# MUSEES"
   ]
  },
  {
   "cell_type": "code",
   "execution_count": 1,
   "id": "83b765ef",
   "metadata": {},
   "outputs": [],
   "source": [
    "import numpy as np\n",
    "import pandas as pd"
   ]
  },
  {
   "cell_type": "code",
   "execution_count": 167,
   "id": "a7f4210e",
   "metadata": {
    "scrolled": true
   },
   "outputs": [
    {
     "data": {
      "text/html": [
       "<div>\n",
       "<style scoped>\n",
       "    .dataframe tbody tr th:only-of-type {\n",
       "        vertical-align: middle;\n",
       "    }\n",
       "\n",
       "    .dataframe tbody tr th {\n",
       "        vertical-align: top;\n",
       "    }\n",
       "\n",
       "    .dataframe thead th {\n",
       "        text-align: right;\n",
       "    }\n",
       "</style>\n",
       "<table border=\"1\" class=\"dataframe\">\n",
       "  <thead>\n",
       "    <tr style=\"text-align: right;\">\n",
       "      <th></th>\n",
       "      <th>osm_id</th>\n",
       "      <th>name</th>\n",
       "      <th>number</th>\n",
       "      <th>street</th>\n",
       "      <th>postal_code</th>\n",
       "      <th>city</th>\n",
       "      <th>country</th>\n",
       "      <th>country_code</th>\n",
       "      <th>lat</th>\n",
       "      <th>lon</th>\n",
       "      <th>website</th>\n",
       "      <th>email</th>\n",
       "      <th>phone</th>\n",
       "      <th>fax</th>\n",
       "      <th>tags</th>\n",
       "      <th>description</th>\n",
       "      <th>date_added</th>\n",
       "      <th>wikidata</th>\n",
       "    </tr>\n",
       "  </thead>\n",
       "  <tbody>\n",
       "    <tr>\n",
       "      <th>0</th>\n",
       "      <td>4540234591</td>\n",
       "      <td>3 bis f</td>\n",
       "      <td>109</td>\n",
       "      <td>Avenue du Petit BarthÈlÈmy</td>\n",
       "      <td>13617.0</td>\n",
       "      <td>Aix-en-Provence</td>\n",
       "      <td>France</td>\n",
       "      <td>fr</td>\n",
       "      <td>43.521207</td>\n",
       "      <td>5.439875</td>\n",
       "      <td>http://www.3bisf.com</td>\n",
       "      <td>contact@3bisf.com</td>\n",
       "      <td>3.344216e+10</td>\n",
       "      <td>NaN</td>\n",
       "      <td>osm:museum;art:art contemporain</td>\n",
       "      <td>NaN</td>\n",
       "      <td>44116,0076388889</td>\n",
       "      <td>NaN</td>\n",
       "    </tr>\n",
       "    <tr>\n",
       "      <th>1</th>\n",
       "      <td>4388745689</td>\n",
       "      <td>A casa di Losari</td>\n",
       "      <td>NaN</td>\n",
       "      <td>T 30</td>\n",
       "      <td>20226.0</td>\n",
       "      <td>BelgodËre</td>\n",
       "      <td>France</td>\n",
       "      <td>fr</td>\n",
       "      <td>42.638732</td>\n",
       "      <td>9.007660</td>\n",
       "      <td>NaN</td>\n",
       "      <td>NaN</td>\n",
       "      <td>NaN</td>\n",
       "      <td>NaN</td>\n",
       "      <td>osm:museum</td>\n",
       "      <td>NaN</td>\n",
       "      <td>43338,9393981481</td>\n",
       "      <td>NaN</td>\n",
       "    </tr>\n",
       "    <tr>\n",
       "      <th>2</th>\n",
       "      <td>4426176194</td>\n",
       "      <td>¿ l'homme volant</td>\n",
       "      <td>35</td>\n",
       "      <td>Grande Rue</td>\n",
       "      <td>72300.0</td>\n",
       "      <td>SablÈ-sur-Sarthe</td>\n",
       "      <td>France</td>\n",
       "      <td>fr</td>\n",
       "      <td>47.839656</td>\n",
       "      <td>-0.334043</td>\n",
       "      <td>NaN</td>\n",
       "      <td>NaN</td>\n",
       "      <td>3.324395e+10</td>\n",
       "      <td>NaN</td>\n",
       "      <td>osm:museum;type:centre d'interpretation</td>\n",
       "      <td>NaN</td>\n",
       "      <td>42644,4636574074</td>\n",
       "      <td>NaN</td>\n",
       "    </tr>\n",
       "    <tr>\n",
       "      <th>3</th>\n",
       "      <td>7652598615</td>\n",
       "      <td>Abbadiale - Maison des arts</td>\n",
       "      <td>NaN</td>\n",
       "      <td>Rue du Gabizos</td>\n",
       "      <td>65400.0</td>\n",
       "      <td>Arras-en-Lavedan</td>\n",
       "      <td>France</td>\n",
       "      <td>fr</td>\n",
       "      <td>42.990826</td>\n",
       "      <td>-0.128057</td>\n",
       "      <td>https://www.abbadiale.fr/</td>\n",
       "      <td>NaN</td>\n",
       "      <td>3.363317e+10</td>\n",
       "      <td>NaN</td>\n",
       "      <td>osm:museum</td>\n",
       "      <td>NaN</td>\n",
       "      <td>44120,0466782407</td>\n",
       "      <td>NaN</td>\n",
       "    </tr>\n",
       "    <tr>\n",
       "      <th>4</th>\n",
       "      <td>121580330</td>\n",
       "      <td>Abbaye</td>\n",
       "      <td>NaN</td>\n",
       "      <td>Rue de l'Abbaye</td>\n",
       "      <td>39210.0</td>\n",
       "      <td>Ch‚teau-Chalon</td>\n",
       "      <td>France</td>\n",
       "      <td>fr</td>\n",
       "      <td>46.753866</td>\n",
       "      <td>5.624296</td>\n",
       "      <td>NaN</td>\n",
       "      <td>NaN</td>\n",
       "      <td>NaN</td>\n",
       "      <td>NaN</td>\n",
       "      <td>osm:museum;art:architecture</td>\n",
       "      <td>NaN</td>\n",
       "      <td>43102,5491898148</td>\n",
       "      <td>NaN</td>\n",
       "    </tr>\n",
       "    <tr>\n",
       "      <th>...</th>\n",
       "      <td>...</td>\n",
       "      <td>...</td>\n",
       "      <td>...</td>\n",
       "      <td>...</td>\n",
       "      <td>...</td>\n",
       "      <td>...</td>\n",
       "      <td>...</td>\n",
       "      <td>...</td>\n",
       "      <td>...</td>\n",
       "      <td>...</td>\n",
       "      <td>...</td>\n",
       "      <td>...</td>\n",
       "      <td>...</td>\n",
       "      <td>...</td>\n",
       "      <td>...</td>\n",
       "      <td>...</td>\n",
       "      <td>...</td>\n",
       "      <td>...</td>\n",
       "    </tr>\n",
       "    <tr>\n",
       "      <th>3779</th>\n",
       "      <td>1348524503</td>\n",
       "      <td>Vivarium du Moulin</td>\n",
       "      <td>NaN</td>\n",
       "      <td>Rue Principale</td>\n",
       "      <td>68610.0</td>\n",
       "      <td>Thann-Guebwiller</td>\n",
       "      <td>France</td>\n",
       "      <td>fr</td>\n",
       "      <td>47.942258</td>\n",
       "      <td>7.149613</td>\n",
       "      <td>NaN</td>\n",
       "      <td>NaN</td>\n",
       "      <td>NaN</td>\n",
       "      <td>NaN</td>\n",
       "      <td>osm:museum</td>\n",
       "      <td>NaN</td>\n",
       "      <td>40747,8717476852</td>\n",
       "      <td>NaN</td>\n",
       "    </tr>\n",
       "    <tr>\n",
       "      <th>3780</th>\n",
       "      <td>577287841</td>\n",
       "      <td>Voyage au Temps des impressionnistes</td>\n",
       "      <td>NaN</td>\n",
       "      <td>Rue de LÈry</td>\n",
       "      <td>95430.0</td>\n",
       "      <td>Auvers-sur-Oise</td>\n",
       "      <td>France</td>\n",
       "      <td>fr</td>\n",
       "      <td>49.072057</td>\n",
       "      <td>2.166167</td>\n",
       "      <td>NaN</td>\n",
       "      <td>NaN</td>\n",
       "      <td>NaN</td>\n",
       "      <td>NaN</td>\n",
       "      <td>osm:museum</td>\n",
       "      <td>NaN</td>\n",
       "      <td>41141,7272222222</td>\n",
       "      <td>NaN</td>\n",
       "    </tr>\n",
       "    <tr>\n",
       "      <th>3781</th>\n",
       "      <td>145062184</td>\n",
       "      <td>Wines and Spirits Museum</td>\n",
       "      <td>NaN</td>\n",
       "      <td>Corniche Bonaparte</td>\n",
       "      <td>83150.0</td>\n",
       "      <td>Bandol</td>\n",
       "      <td>France</td>\n",
       "      <td>fr</td>\n",
       "      <td>43.128031</td>\n",
       "      <td>5.749484</td>\n",
       "      <td>NaN</td>\n",
       "      <td>NaN</td>\n",
       "      <td>NaN</td>\n",
       "      <td>NaN</td>\n",
       "      <td>osm:museum</td>\n",
       "      <td>NaN</td>\n",
       "      <td>42367,7135069444</td>\n",
       "      <td>NaN</td>\n",
       "    </tr>\n",
       "    <tr>\n",
       "      <th>3782</th>\n",
       "      <td>82988725</td>\n",
       "      <td>Xanxotea</td>\n",
       "      <td>NaN</td>\n",
       "      <td>La Place</td>\n",
       "      <td>64240.0</td>\n",
       "      <td>Isturits</td>\n",
       "      <td>France</td>\n",
       "      <td>fr</td>\n",
       "      <td>43.364834</td>\n",
       "      <td>-1.203580</td>\n",
       "      <td>http://www.xanxotea.com/</td>\n",
       "      <td>NaN</td>\n",
       "      <td>NaN</td>\n",
       "      <td>NaN</td>\n",
       "      <td>osm:museum</td>\n",
       "      <td>MusÈe ethnographique Xanxotea pour dÈcouvrir l...</td>\n",
       "      <td>44129,580775463</td>\n",
       "      <td>NaN</td>\n",
       "    </tr>\n",
       "    <tr>\n",
       "      <th>3783</th>\n",
       "      <td>277107550</td>\n",
       "      <td>Xylotheque - Kiosque Pedagogique</td>\n",
       "      <td>NaN</td>\n",
       "      <td>Impasse de la Haie Vive</td>\n",
       "      <td>45590.0</td>\n",
       "      <td>Saint-Cyr-en-Val</td>\n",
       "      <td>France</td>\n",
       "      <td>fr</td>\n",
       "      <td>47.825888</td>\n",
       "      <td>1.967795</td>\n",
       "      <td>NaN</td>\n",
       "      <td>NaN</td>\n",
       "      <td>NaN</td>\n",
       "      <td>NaN</td>\n",
       "      <td>osm:museum</td>\n",
       "      <td>NaN</td>\n",
       "      <td>43331,4758449074</td>\n",
       "      <td>NaN</td>\n",
       "    </tr>\n",
       "  </tbody>\n",
       "</table>\n",
       "<p>3784 rows × 18 columns</p>\n",
       "</div>"
      ],
      "text/plain": [
       "          osm_id                                  name number  \\\n",
       "0     4540234591                               3 bis f    109   \n",
       "1     4388745689                      A casa di Losari    NaN   \n",
       "2     4426176194                      ¿ l'homme volant     35   \n",
       "3     7652598615           Abbadiale - Maison des arts    NaN   \n",
       "4      121580330                                Abbaye    NaN   \n",
       "...          ...                                   ...    ...   \n",
       "3779  1348524503                    Vivarium du Moulin    NaN   \n",
       "3780   577287841  Voyage au Temps des impressionnistes    NaN   \n",
       "3781   145062184              Wines and Spirits Museum    NaN   \n",
       "3782    82988725                              Xanxotea    NaN   \n",
       "3783   277107550      Xylotheque - Kiosque Pedagogique    NaN   \n",
       "\n",
       "                          street  postal_code              city country  \\\n",
       "0     Avenue du Petit BarthÈlÈmy      13617.0   Aix-en-Provence  France   \n",
       "1                           T 30      20226.0         BelgodËre  France   \n",
       "2                     Grande Rue      72300.0  SablÈ-sur-Sarthe  France   \n",
       "3                 Rue du Gabizos      65400.0  Arras-en-Lavedan  France   \n",
       "4                Rue de l'Abbaye      39210.0    Ch‚teau-Chalon  France   \n",
       "...                          ...          ...               ...     ...   \n",
       "3779              Rue Principale      68610.0  Thann-Guebwiller  France   \n",
       "3780                 Rue de LÈry      95430.0   Auvers-sur-Oise  France   \n",
       "3781          Corniche Bonaparte      83150.0            Bandol  France   \n",
       "3782                    La Place      64240.0          Isturits  France   \n",
       "3783     Impasse de la Haie Vive      45590.0  Saint-Cyr-en-Val  France   \n",
       "\n",
       "     country_code        lat       lon                    website  \\\n",
       "0              fr  43.521207  5.439875       http://www.3bisf.com   \n",
       "1              fr  42.638732  9.007660                        NaN   \n",
       "2              fr  47.839656 -0.334043                        NaN   \n",
       "3              fr  42.990826 -0.128057  https://www.abbadiale.fr/   \n",
       "4              fr  46.753866  5.624296                        NaN   \n",
       "...           ...        ...       ...                        ...   \n",
       "3779           fr  47.942258  7.149613                        NaN   \n",
       "3780           fr  49.072057  2.166167                        NaN   \n",
       "3781           fr  43.128031  5.749484                        NaN   \n",
       "3782           fr  43.364834 -1.203580   http://www.xanxotea.com/   \n",
       "3783           fr  47.825888  1.967795                        NaN   \n",
       "\n",
       "                  email         phone  fax  \\\n",
       "0     contact@3bisf.com  3.344216e+10  NaN   \n",
       "1                   NaN           NaN  NaN   \n",
       "2                   NaN  3.324395e+10  NaN   \n",
       "3                   NaN  3.363317e+10  NaN   \n",
       "4                   NaN           NaN  NaN   \n",
       "...                 ...           ...  ...   \n",
       "3779                NaN           NaN  NaN   \n",
       "3780                NaN           NaN  NaN   \n",
       "3781                NaN           NaN  NaN   \n",
       "3782                NaN           NaN  NaN   \n",
       "3783                NaN           NaN  NaN   \n",
       "\n",
       "                                         tags  \\\n",
       "0             osm:museum;art:art contemporain   \n",
       "1                                  osm:museum   \n",
       "2     osm:museum;type:centre d'interpretation   \n",
       "3                                  osm:museum   \n",
       "4                 osm:museum;art:architecture   \n",
       "...                                       ...   \n",
       "3779                               osm:museum   \n",
       "3780                               osm:museum   \n",
       "3781                               osm:museum   \n",
       "3782                               osm:museum   \n",
       "3783                               osm:museum   \n",
       "\n",
       "                                            description        date_added  \\\n",
       "0                                                   NaN  44116,0076388889   \n",
       "1                                                   NaN  43338,9393981481   \n",
       "2                                                   NaN  42644,4636574074   \n",
       "3                                                   NaN  44120,0466782407   \n",
       "4                                                   NaN  43102,5491898148   \n",
       "...                                                 ...               ...   \n",
       "3779                                                NaN  40747,8717476852   \n",
       "3780                                                NaN  41141,7272222222   \n",
       "3781                                                NaN  42367,7135069444   \n",
       "3782  MusÈe ethnographique Xanxotea pour dÈcouvrir l...   44129,580775463   \n",
       "3783                                                NaN  43331,4758449074   \n",
       "\n",
       "     wikidata  \n",
       "0         NaN  \n",
       "1         NaN  \n",
       "2         NaN  \n",
       "3         NaN  \n",
       "4         NaN  \n",
       "...       ...  \n",
       "3779      NaN  \n",
       "3780      NaN  \n",
       "3781      NaN  \n",
       "3782      NaN  \n",
       "3783      NaN  \n",
       "\n",
       "[3784 rows x 18 columns]"
      ]
     },
     "execution_count": 167,
     "metadata": {},
     "output_type": "execute_result"
    }
   ],
   "source": [
    "#exporter la data en tableau\n",
    "data = pd.read_csv(\"/Users/marielebreton/Documents/TheHackingProject/Week4/Day2/museums.csv\", sep=\";\")\n",
    "data"
   ]
  },
  {
   "cell_type": "markdown",
   "id": "472ba2fe",
   "metadata": {},
   "source": [
    "## Combien y-a-t-il de musées en France métropolitaine ?\n"
   ]
  },
  {
   "cell_type": "code",
   "execution_count": 144,
   "id": "8b40e9fa",
   "metadata": {},
   "outputs": [
    {
     "data": {
      "text/plain": [
       "3784"
      ]
     },
     "execution_count": 144,
     "metadata": {},
     "output_type": "execute_result"
    }
   ],
   "source": [
    "#nombre de musées\n",
    "len(data)"
   ]
  },
  {
   "cell_type": "markdown",
   "id": "4c770f65",
   "metadata": {},
   "source": [
    "## Dans quelle(s) ville(s) y-a-t-il de plus de musées ?"
   ]
  },
  {
   "cell_type": "code",
   "execution_count": 145,
   "id": "aa5d525b",
   "metadata": {},
   "outputs": [
    {
     "data": {
      "text/plain": [
       "city\n",
       "Paris                 175\n",
       "Lyon                   33\n",
       "Marseille              28\n",
       "Grenoble               22\n",
       "Bordeaux               20\n",
       "                     ... \n",
       "La Chaise-Dieu          1\n",
       "La Celle                1\n",
       "La Cassagne             1\n",
       "La CadiÃre-d'Azur      1\n",
       "â¦vreux                1\n",
       "Length: 2295, dtype: int64"
      ]
     },
     "execution_count": 145,
     "metadata": {},
     "output_type": "execute_result"
    }
   ],
   "source": [
    "#villes qui ont le plus grand nombre de musées : Paris, Lyon, Marseille\n",
    "data.groupby('city').size().sort_values(ascending=False)"
   ]
  },
  {
   "cell_type": "markdown",
   "id": "0b2346b1",
   "metadata": {},
   "source": [
    "## Quel est le nombre moyen de musées par ville ?"
   ]
  },
  {
   "cell_type": "code",
   "execution_count": 146,
   "id": "26580912",
   "metadata": {},
   "outputs": [
    {
     "data": {
      "text/plain": [
       "1.647930283224401"
      ]
     },
     "execution_count": 146,
     "metadata": {},
     "output_type": "execute_result"
    }
   ],
   "source": [
    "#nombre moyen de musées par ville\n",
    "data.groupby('city').size().mean()\n"
   ]
  },
  {
   "cell_type": "markdown",
   "id": "d8bf5cf4",
   "metadata": {},
   "source": [
    "## Quel est le nombre médian de musées par ville ?"
   ]
  },
  {
   "cell_type": "code",
   "execution_count": 131,
   "id": "67d01ae4",
   "metadata": {},
   "outputs": [
    {
     "data": {
      "text/plain": [
       "1.0"
      ]
     },
     "execution_count": 131,
     "metadata": {},
     "output_type": "execute_result"
    }
   ],
   "source": [
    "#nombre médian de musées par ville\n",
    "data.groupby('city').size().median()"
   ]
  },
  {
   "cell_type": "markdown",
   "id": "f108065e",
   "metadata": {},
   "source": [
    "## Comment sont répartis les musées par type (en pourcentage) ?"
   ]
  },
  {
   "cell_type": "code",
   "execution_count": 182,
   "id": "1e172e1c",
   "metadata": {},
   "outputs": [
    {
     "data": {
      "text/plain": [
       "osm:museum                                                                    57.51\n",
       "osm:museum;type:ecomusee                                                      10.23\n",
       "osm:museum;type:musee technique et industriel                                  5.13\n",
       "osm:museum;type:musee d'histoire                                               3.49\n",
       "osm:museum;art:architecture                                                    3.20\n",
       "                                                                              ...  \n",
       "osm:museum;gender:musee de couple;type:maison d'artiste                        0.03\n",
       "osm:museum;art:prehistoire;type:musee d'histoire naturelle                     0.03\n",
       "osm:museum;continent:art asiatique;type:centre d'art                           0.03\n",
       "osm:museum;type:musee d'artiste;type:musee litteraire;gender:musee d'homme     0.03\n",
       "osm:museum;gender:musee d'homme;type:musee de beaux-arts                       0.03\n",
       "Name: tags, Length: 119, dtype: float64"
      ]
     },
     "execution_count": 182,
     "metadata": {},
     "output_type": "execute_result"
    }
   ],
   "source": [
    "#répartion des musées par type(%)\n",
    "percentage = data['tags'].value_counts(normalize=True).mul(100).round(2)\n",
    "percentage"
   ]
  },
  {
   "cell_type": "markdown",
   "id": "55ee3909",
   "metadata": {},
   "source": [
    "## Combien y-a-t-il de musées dont le nom commence par \"Château\" ?"
   ]
  },
  {
   "cell_type": "code",
   "execution_count": 189,
   "id": "d54bd48b",
   "metadata": {
    "scrolled": true
   },
   "outputs": [
    {
     "data": {
      "text/plain": [
       "False    3727\n",
       "True       57\n",
       "Name: name, dtype: int64"
      ]
     },
     "execution_count": 189,
     "metadata": {},
     "output_type": "execute_result"
    }
   ],
   "source": [
    "#nombre de musées dont le nom commence par château \n",
    "data['name'].str.startswith('Ch‚').value_counts()\n"
   ]
  },
  {
   "cell_type": "markdown",
   "id": "9eff784f",
   "metadata": {},
   "source": [
    "## Pour combien de musées dispose-t-on de l'adresse du site web ?"
   ]
  },
  {
   "cell_type": "code",
   "execution_count": 165,
   "id": "d5efd227",
   "metadata": {},
   "outputs": [
    {
     "data": {
      "text/plain": [
       "301"
      ]
     },
     "execution_count": 165,
     "metadata": {},
     "output_type": "execute_result"
    }
   ],
   "source": [
    "#pour combien de musées dispose-t-on de l'adresse du site web\n",
    "empty_cell_email = data[\"email\"].isnull().sum()\n",
    "number_of_museums = len(data)\n",
    "museum_with_email = number_of_museums - empty_cell_email\n",
    "museum_with_email"
   ]
  },
  {
   "cell_type": "markdown",
   "id": "907a019a",
   "metadata": {},
   "source": [
    "## Quel département français possède le plus de musées sur son territoire ?"
   ]
  },
  {
   "cell_type": "code",
   "execution_count": 176,
   "id": "ba18e4ec",
   "metadata": {},
   "outputs": [
    {
     "data": {
      "text/plain": [
       "75    180\n",
       "59     97\n",
       "33     94\n",
       "71     91\n",
       "13     90\n",
       "     ... \n",
       "28     14\n",
       "23     11\n",
       "90     10\n",
       "48      9\n",
       "98      8\n",
       "Name: postal_code, Length: 88, dtype: int64"
      ]
     },
     "execution_count": 176,
     "metadata": {},
     "output_type": "execute_result"
    }
   ],
   "source": [
    "#quel département français possède le plus de musées sur son territoire ?\n",
    "data[\"postal_code\"].astype(str).str[0:2].value_counts().sort_values(ascending=False)"
   ]
  },
  {
   "cell_type": "markdown",
   "id": "3443de4f",
   "metadata": {},
   "source": [
    "## Quel département français possède le moins de musées sur son territoire ?"
   ]
  },
  {
   "cell_type": "code",
   "execution_count": 156,
   "id": "bc367197",
   "metadata": {},
   "outputs": [
    {
     "data": {
      "text/plain": [
       "98      8\n",
       "48      9\n",
       "90     10\n",
       "23     11\n",
       "93     14\n",
       "     ... \n",
       "13     90\n",
       "71     91\n",
       "33     94\n",
       "59     97\n",
       "75    180\n",
       "Name: postal_code, Length: 88, dtype: int64"
      ]
     },
     "execution_count": 156,
     "metadata": {},
     "output_type": "execute_result"
    }
   ],
   "source": [
    "#quel département français possède le moins de musées sur son territoire ?\n",
    "data[\"postal_code\"].astype(str).str[0:2].value_counts().sort_values(ascending=True)"
   ]
  },
  {
   "cell_type": "markdown",
   "id": "f640e3b8",
   "metadata": {},
   "source": [
    "## Combien de musées ont \"Napoléon\" dans leur nom ?"
   ]
  },
  {
   "cell_type": "code",
   "execution_count": 184,
   "id": "f6a9b578",
   "metadata": {},
   "outputs": [
    {
     "data": {
      "text/plain": [
       "False    3784\n",
       "Name: name, dtype: int64"
      ]
     },
     "execution_count": 184,
     "metadata": {},
     "output_type": "execute_result"
    }
   ],
   "source": [
    "#combien de musées ont \"Napoléon\" dans leur nom ?\n",
    "data[\"name\"].str.contains(\"Napoléon\").value_counts()"
   ]
  },
  {
   "cell_type": "code",
   "execution_count": null,
   "id": "28cb06cb",
   "metadata": {},
   "outputs": [],
   "source": []
  }
 ],
 "metadata": {
  "kernelspec": {
   "display_name": "Python 3 (ipykernel)",
   "language": "python",
   "name": "python3"
  },
  "language_info": {
   "codemirror_mode": {
    "name": "ipython",
    "version": 3
   },
   "file_extension": ".py",
   "mimetype": "text/x-python",
   "name": "python",
   "nbconvert_exporter": "python",
   "pygments_lexer": "ipython3",
   "version": "3.9.7"
  }
 },
 "nbformat": 4,
 "nbformat_minor": 5
}
